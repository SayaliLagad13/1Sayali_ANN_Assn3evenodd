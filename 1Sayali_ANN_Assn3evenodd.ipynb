{
 "cells": [
  {
   "cell_type": "markdown",
   "id": "98e8091a",
   "metadata": {},
   "source": [
    "# EvenODD using Perceptron Neural Network Assignment 3"
   ]
  },
  {
   "cell_type": "code",
   "execution_count": null,
   "id": "3a1c7ad8",
   "metadata": {},
   "outputs": [],
   "source": []
  },
  {
   "cell_type": "code",
   "execution_count": 1,
   "id": "c47c39ac",
   "metadata": {},
   "outputs": [],
   "source": [
    "import numpy as np"
   ]
  },
  {
   "cell_type": "code",
   "execution_count": 4,
   "id": "e8be1e84",
   "metadata": {},
   "outputs": [
    {
     "name": "stdout",
     "output_type": "stream",
     "text": [
      "Enter a number (0-9) or 'q' to quit: 0\n",
      "Even\n",
      "Enter a number (0-9) or 'q' to quit: 1\n",
      "Odd\n",
      "Enter a number (0-9) or 'q' to quit: 2\n",
      "Even\n",
      "Enter a number (0-9) or 'q' to quit: 3\n",
      "Odd\n",
      "Enter a number (0-9) or 'q' to quit: 4\n",
      "Even\n",
      "Enter a number (0-9) or 'q' to quit: 5\n",
      "Odd\n",
      "Enter a number (0-9) or 'q' to quit: 6\n",
      "Even\n",
      "Enter a number (0-9) or 'q' to quit: 7\n",
      "Odd\n",
      "Enter a number (0-9) or 'q' to quit: 8\n",
      "Even\n",
      "Enter a number (0-9) or 'q' to quit: 9\n",
      "Odd\n",
      "Enter a number (0-9) or 'q' to quit: 10\n",
      "Please enter a valid number from 0 to 9.\n",
      "Enter a number (0-9) or 'q' to quit: q\n"
     ]
    }
   ],
   "source": [
    "def perceptron(inputs, weights):\n",
    "    if np.dot(inputs, weights) >= 0:\n",
    "        return 1\n",
    "    else:\n",
    "        return 0\n",
    "    \n",
    "def convert_to_ascii(number):\n",
    "    return np.array([1 if i == number else 0 for i in range(10)])\n",
    "\n",
    "training_data = [(convert_to_ascii(i), 1 if i % 2 == 0 else 0) for i in range(10)]\n",
    "\n",
    "weights = np.random.rand(10)\n",
    "learning_rate = 0.1\n",
    "\n",
    "for _ in range(1000):\n",
    "    for inputs, label in training_data:\n",
    "        prediction = perceptron(inputs, weights)\n",
    "        weights += learning_rate * (label - prediction) * inputs\n",
    "        \n",
    "while True:\n",
    "    user_input = input(\"Enter a number (0-9) or 'q' to quit: \")\n",
    "    if user_input.lower() == 'q':\n",
    "        break\n",
    "    if user_input.isdigit() and 0 <= int(user_input) <=9:\n",
    "        prediction = perceptron(convert_to_ascii(int(user_input)), weights)\n",
    "        print(\"Even\" if prediction == 1 else \"Odd\")\n",
    "    else:\n",
    "        print(\"Please enter a valid number from 0 to 9.\")"
   ]
  },
  {
   "cell_type": "code",
   "execution_count": null,
   "id": "b4ab5a1c",
   "metadata": {},
   "outputs": [],
   "source": []
  }
 ],
 "metadata": {
  "kernelspec": {
   "display_name": "Python 3 (ipykernel)",
   "language": "python",
   "name": "python3"
  },
  "language_info": {
   "codemirror_mode": {
    "name": "ipython",
    "version": 3
   },
   "file_extension": ".py",
   "mimetype": "text/x-python",
   "name": "python",
   "nbconvert_exporter": "python",
   "pygments_lexer": "ipython3",
   "version": "3.9.13"
  }
 },
 "nbformat": 4,
 "nbformat_minor": 5
}
